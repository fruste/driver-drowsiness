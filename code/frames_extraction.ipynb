{
 "cells": [
  {
   "cell_type": "code",
   "execution_count": 7,
   "id": "23ce9557",
   "metadata": {},
   "outputs": [],
   "source": [
    "%matplotlib inline\n",
    "import cv2\n",
    "import numpy as np\n",
    "import matplotlib.pyplot as plt"
   ]
  },
  {
   "cell_type": "code",
   "execution_count": 13,
   "id": "45157b79",
   "metadata": {},
   "outputs": [
    {
     "name": "stdout",
     "output_type": "stream",
     "text": [
      "Width: 1296\n",
      "Height: 730\n",
      "Number of frames: 46025\n",
      "FPS: 46\n",
      "Brightness: 0\n",
      "Contrast: 0\n"
     ]
    }
   ],
   "source": [
    "file_name = '../raw_data/P11409_sleepy_part1.avi'\n",
    "output_folder = '../frames/P11409/sleepy/'\n",
    "\n",
    "cap = cv2.VideoCapture(file_name)\n",
    "\n",
    "width = int(cap.get(cv2.CAP_PROP_FRAME_WIDTH))\n",
    "height = int(cap.get(cv2.CAP_PROP_FRAME_HEIGHT))\n",
    "\n",
    "length = int(cap.get(cv2.CAP_PROP_FRAME_COUNT))\n",
    "fps = int(cap.get(cv2.CAP_PROP_FPS))\n",
    "\n",
    "delay_time = int(fps / 46)\n",
    "\n",
    "brightness = int(cap.get(cv2.CAP_PROP_BRIGHTNESS))\n",
    "\n",
    "contrast = int(cap.get(cv2.CAP_PROP_CONTRAST))\n",
    "\n",
    "print(\"Width: \" + str(width))\n",
    "print(\"Height: \" + str(height))\n",
    "print(\"Number of frames: \" + str(int(length)))\n",
    "print(\"FPS: \" + str(fps))\n",
    "\n",
    "print(\"Brightness: \" + str(brightness))\n",
    "print(\"Contrast: \" + str(contrast))"
   ]
  },
  {
   "cell_type": "code",
   "execution_count": 14,
   "id": "574e5978",
   "metadata": {},
   "outputs": [
    {
     "name": "stdout",
     "output_type": "stream",
     "text": [
      "No Error\n",
      "0\n",
      "1000\n",
      "2000\n",
      "3000\n",
      "4000\n",
      "5000\n",
      "6000\n",
      "7000\n",
      "8000\n",
      "9000\n",
      "10000\n",
      "11000\n",
      "12000\n",
      "13000\n",
      "14000\n",
      "15000\n",
      "16000\n",
      "17000\n",
      "18000\n",
      "19000\n",
      "20000\n",
      "21000\n",
      "22000\n",
      "23000\n",
      "24000\n",
      "25000\n",
      "26000\n",
      "27000\n",
      "28000\n",
      "29000\n",
      "30000\n",
      "31000\n",
      "32000\n",
      "33000\n",
      "34000\n",
      "35000\n",
      "36000\n",
      "37000\n",
      "38000\n",
      "39000\n",
      "40000\n",
      "41000\n",
      "42000\n",
      "43000\n",
      "44000\n",
      "45000\n",
      "46000\n",
      "number of frames: 46026\n",
      "All frames have been saved\n"
     ]
    }
   ],
   "source": [
    "# Check if camera opened successfully\n",
    "if (cap.isOpened()== False):\n",
    "    print(\"Error opening video stream or file\")\n",
    "else:\n",
    "    print(\"No Error\")\n",
    "\n",
    "i = 0\n",
    "while(cap.isOpened()):\n",
    "  # Capture frame-by-frame\n",
    "    ret, frame = cap.read()\n",
    "    if i % 1000 == 0:\n",
    "        print(i)\n",
    "        \n",
    "    if ret == True:\n",
    "        # Display the resulting frame\n",
    "        cv2.imwrite(output_folder + 'frame' + str(i) + '.jpg', frame)\n",
    "        i += 1\n",
    "    else:\n",
    "        print(\"number of frames:\", i)\n",
    "        break\n",
    "    #cv2.waitKey(delay_time)\n",
    "print(\"All frames have been saved\")\n",
    "        \n",
    "cap.release()\n",
    "\n",
    "cv2.destroyAllWindows()"
   ]
  },
  {
   "cell_type": "code",
   "execution_count": null,
   "id": "cda4b383-3092-4463-8dc2-6a565d269e9a",
   "metadata": {},
   "outputs": [],
   "source": []
  }
 ],
 "metadata": {
  "kernelspec": {
   "display_name": "Python 3 (ipykernel)",
   "language": "python",
   "name": "python3"
  },
  "language_info": {
   "codemirror_mode": {
    "name": "ipython",
    "version": 3
   },
   "file_extension": ".py",
   "mimetype": "text/x-python",
   "name": "python",
   "nbconvert_exporter": "python",
   "pygments_lexer": "ipython3",
   "version": "3.9.13"
  }
 },
 "nbformat": 4,
 "nbformat_minor": 5
}
