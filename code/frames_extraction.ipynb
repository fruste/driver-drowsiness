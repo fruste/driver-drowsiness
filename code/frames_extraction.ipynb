{
 "cells": [
  {
   "cell_type": "code",
   "execution_count": 4,
   "id": "23ce9557",
   "metadata": {},
   "outputs": [],
   "source": [
    "%matplotlib inline\n",
    "import cv2\n",
    "import numpy as np\n",
    "import matplotlib.pyplot as plt"
   ]
  },
  {
   "cell_type": "code",
   "execution_count": 6,
   "id": "45157b79",
   "metadata": {},
   "outputs": [
    {
     "name": "stdout",
     "output_type": "stream",
     "text": [
      "Width: 1296\n",
      "Height: 730\n",
      "Number of frames: 2805\n",
      "FPS: 46\n",
      "Brightness: 0\n",
      "Contrast: 0\n"
     ]
    }
   ],
   "source": [
    "file_name = '../raw_data/normal_sleep_1min_test.mp4'\n",
    "output_folder = '../test_frames/'\n",
    "\n",
    "cap = cv2.VideoCapture(file_name)\n",
    "\n",
    "width = int(cap.get(cv2.CAP_PROP_FRAME_WIDTH))\n",
    "height = int(cap.get(cv2.CAP_PROP_FRAME_HEIGHT))\n",
    "\n",
    "length = int(cap.get(cv2.CAP_PROP_FRAME_COUNT))\n",
    "fps = int(cap.get(cv2.CAP_PROP_FPS))\n",
    "\n",
    "delay_time = int(fps / 46)\n",
    "\n",
    "brightness = int(cap.get(cv2.CAP_PROP_BRIGHTNESS))\n",
    "\n",
    "contrast = int(cap.get(cv2.CAP_PROP_CONTRAST))\n",
    "\n",
    "print(\"Width: \" + str(width))\n",
    "print(\"Height: \" + str(height))\n",
    "print(\"Number of frames: \" + str(int(length)))\n",
    "print(\"FPS: \" + str(fps))\n",
    "\n",
    "print(\"Brightness: \" + str(brightness))\n",
    "print(\"Contrast: \" + str(contrast))"
   ]
  },
  {
   "cell_type": "code",
   "execution_count": 7,
   "id": "574e5978",
   "metadata": {},
   "outputs": [
    {
     "name": "stdout",
     "output_type": "stream",
     "text": [
      "No Error\n",
      "0\n",
      "1000\n",
      "2000\n",
      "number of frames: 2805\n",
      "All frames have been saved\n"
     ]
    }
   ],
   "source": [
    "# Check if camera opened successfully\n",
    "if (cap.isOpened()== False):\n",
    "    print(\"Error opening video stream or file\")\n",
    "else:\n",
    "    print(\"No Error\")\n",
    "\n",
    "i = 0\n",
    "while(cap.isOpened()):\n",
    "  # Capture frame-by-frame\n",
    "    ret, frame = cap.read()\n",
    "    if i % 1000 == 0:\n",
    "        print(i)\n",
    "        \n",
    "    if ret == True:\n",
    "        # Display the resulting frame\n",
    "        cv2.imwrite(output_folder + 'frame' + str(i) + '.jpg', frame)\n",
    "        i += 1\n",
    "    else:\n",
    "        print(\"number of frames:\", i)\n",
    "        break\n",
    "    #cv2.waitKey(delay_time)\n",
    "print(\"All frames have been saved\")\n",
    "        \n",
    "cap.release()\n",
    "\n",
    "cv2.destroyAllWindows()"
   ]
  },
  {
   "cell_type": "code",
   "execution_count": null,
   "id": "cda4b383-3092-4463-8dc2-6a565d269e9a",
   "metadata": {},
   "outputs": [],
   "source": []
  }
 ],
 "metadata": {
  "kernelspec": {
   "display_name": "Python 3 (ipykernel)",
   "language": "python",
   "name": "python3"
  },
  "language_info": {
   "codemirror_mode": {
    "name": "ipython",
    "version": 3
   },
   "file_extension": ".py",
   "mimetype": "text/x-python",
   "name": "python",
   "nbconvert_exporter": "python",
   "pygments_lexer": "ipython3",
   "version": "3.9.13"
  }
 },
 "nbformat": 4,
 "nbformat_minor": 5
}
