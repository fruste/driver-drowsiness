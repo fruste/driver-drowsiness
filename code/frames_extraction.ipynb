{
 "cells": [
  {
   "cell_type": "code",
   "execution_count": 9,
   "id": "23ce9557",
   "metadata": {},
   "outputs": [],
   "source": [
    "%matplotlib inline\n",
    "import cv2\n",
    "import numpy as np\n",
    "import matplotlib.pyplot as plt"
   ]
  },
  {
   "cell_type": "markdown",
   "id": "19a4e665-ea56-4cea-a2fd-afec30b0c97a",
   "metadata": {},
   "source": [
    "# Frames Extraction\n",
    "The frames of a recording will be extracted, given the subject number and condition."
   ]
  },
  {
   "cell_type": "code",
   "execution_count": 10,
   "id": "f185881a-af59-4a8c-82aa-bbc28696d37c",
   "metadata": {},
   "outputs": [],
   "source": [
    "subject = 'P11403'\n",
    "condition = 'normal'\n",
    "\n",
    "# specify the video format (avi or mp4 for our dataset)\n",
    "vid_format = 'avi'"
   ]
  },
  {
   "cell_type": "code",
   "execution_count": 11,
   "id": "45157b79",
   "metadata": {},
   "outputs": [
    {
     "name": "stdout",
     "output_type": "stream",
     "text": [
      "Width: 1296\n",
      "Height: 730\n",
      "Number of frames: 252992\n",
      "FPS: 46\n",
      "Brightness: 0\n",
      "Contrast: 0\n"
     ]
    }
   ],
   "source": [
    "file_name = '../raw_data/' + subject + '_' + condition + '_raw.' + vid_format\n",
    "output_folder = '../frames/' + subject + '/' + condition + '/'\n",
    "\n",
    "cap = cv2.VideoCapture(file_name)\n",
    "\n",
    "width = int(cap.get(cv2.CAP_PROP_FRAME_WIDTH))\n",
    "height = int(cap.get(cv2.CAP_PROP_FRAME_HEIGHT))\n",
    "\n",
    "length = int(cap.get(cv2.CAP_PROP_FRAME_COUNT))\n",
    "fps = int(cap.get(cv2.CAP_PROP_FPS))\n",
    "\n",
    "delay_time = int(fps / 46)\n",
    "\n",
    "brightness = int(cap.get(cv2.CAP_PROP_BRIGHTNESS))\n",
    "\n",
    "contrast = int(cap.get(cv2.CAP_PROP_CONTRAST))\n",
    "\n",
    "print(\"Width: \" + str(width))\n",
    "print(\"Height: \" + str(height))\n",
    "print(\"Number of frames: \" + str(int(length)))\n",
    "print(\"FPS: \" + str(fps))\n",
    "\n",
    "print(\"Brightness: \" + str(brightness))\n",
    "print(\"Contrast: \" + str(contrast))"
   ]
  },
  {
   "cell_type": "code",
   "execution_count": null,
   "id": "574e5978",
   "metadata": {},
   "outputs": [
    {
     "name": "stdout",
     "output_type": "stream",
     "text": [
      "No Error\n",
      "0\n"
     ]
    }
   ],
   "source": [
    "# Check if camera opened successfully\n",
    "if (cap.isOpened()== False):\n",
    "    print(\"Error opening video stream or file\")\n",
    "else:\n",
    "    print(\"No Error\")\n",
    "\n",
    "i = 0\n",
    "while(cap.isOpened()):\n",
    "  # Capture frame-by-frame\n",
    "    ret, frame = cap.read()\n",
    "    if i % 1000 == 0:\n",
    "        print(i)\n",
    "        \n",
    "    if ret == True:\n",
    "        # Display the resulting frame\n",
    "        cv2.imwrite(output_folder + 'frame' + str(i) + '.jpg', frame)\n",
    "        i += 1\n",
    "    else:\n",
    "        print(\"number of frames:\", i)\n",
    "        break\n",
    "    #cv2.waitKey(delay_time)\n",
    "        \n",
    "cap.release()\n",
    "\n",
    "cv2.destroyAllWindows()"
   ]
  },
  {
   "cell_type": "code",
   "execution_count": null,
   "id": "afb96494-600d-4e0d-901e-38eb6e593359",
   "metadata": {},
   "outputs": [],
   "source": []
  }
 ],
 "metadata": {
  "kernelspec": {
   "display_name": "Python 3 (ipykernel)",
   "language": "python",
   "name": "python3"
  },
  "language_info": {
   "codemirror_mode": {
    "name": "ipython",
    "version": 3
   },
   "file_extension": ".py",
   "mimetype": "text/x-python",
   "name": "python",
   "nbconvert_exporter": "python",
   "pygments_lexer": "ipython3",
   "version": "3.9.13"
  }
 },
 "nbformat": 4,
 "nbformat_minor": 5
}
