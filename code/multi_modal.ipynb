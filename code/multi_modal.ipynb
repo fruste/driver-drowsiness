{
 "cells": [
  {
   "cell_type": "markdown",
   "metadata": {},
   "source": [
    "# Multi-Modal data comparison\n",
    "This notebook analyzes other data and compares this with the shallow and deep features"
   ]
  },
  {
   "cell_type": "markdown",
   "metadata": {},
   "source": [
    "## Standard Deviation of the Lateral Position (SDLP)"
   ]
  },
  {
   "cell_type": "code",
   "execution_count": null,
   "metadata": {},
   "outputs": [],
   "source": [
    "import csv\n",
    "import math\n",
    "import numpy as np\n",
    "import matplotlib.pyplot as plt\n",
    "from sklearn.preprocessing import MinMaxScaler\n",
    "\n",
    "sdlp_normal = []\n",
    "sdlp_sleepy = []\n",
    "kss3_normal = []\n",
    "kss3_sleepy = []\n",
    "labels = []\n",
    "\n",
    "with open('../multi_modal_data/multi_modal_edited.csv', 'r') as file:\n",
    "    reader = csv.reader(file)\n",
    "    next(reader)\n",
    "    for row in reader:\n",
    "        if 'N' in row[0]:\n",
    "            if row[0][:-1] == 20 or row[0][:-1] == 15:\n",
    "                continue\n",
    "            sdlp_normal.append(float(row[1].replace(',', '.')))\n",
    "            kss3_normal.append(int(row[2]))\n",
    "            labels.append(row[0][:-1])\n",
    "        elif 'S' in row[0]:\n",
    "            if row[0][:-1] == 20 or row[0][:-1] == 15:\n",
    "                continue\n",
    "            sdlp_sleepy.append(float(row[1].replace(',', '.')))\n",
    "            kss3_sleepy.append(int(row[2]))\n",
    "print(sdlp_normal)\n",
    "print(sdlp_sleepy)\n",
    "print(labels)\n",
    "print(kss3_sleepy)"
   ]
  },
  {
   "cell_type": "code",
   "execution_count": null,
   "metadata": {},
   "outputs": [],
   "source": [
    "X_sdlp = np.arange(len(sdlp_normal))\n",
    "\n",
    "plt.bar(X_sdlp , sdlp_normal, width = 0.4, label = 'Normal')\n",
    "plt.bar(X_sdlp + 0.4, sdlp_sleepy, width = 0.4, label = 'Sleep restricted')\n",
    "plt.legend()\n",
    "plt.xticks(X_sdlp, labels)\n",
    "plt.xlabel('Subject')\n",
    "plt.ylabel('SDLP value')\n",
    "plt.title('SDLP of every subject and condition')\n",
    "\n",
    "plt.savefig('../final_figures/sdlp_per_subject.jpg')\n",
    "plt.show()"
   ]
  },
  {
   "cell_type": "markdown",
   "metadata": {},
   "source": [
    "### Change in SDLP between conditions\n",
    "The change of SDLP taken from the sleepy condition. Where a positive value means a higher SDLP in the sleepy condition, and a negative value means a higher SDLP value in the normal condition."
   ]
  },
  {
   "cell_type": "code",
   "execution_count": null,
   "metadata": {},
   "outputs": [],
   "source": [
    "sdlp_change = np.array(sdlp_sleepy) - np.array(sdlp_normal)\n",
    "\n",
    "plt.bar(X_sdlp, sdlp_change)\n",
    "plt.xticks(X_sdlp, labels)\n",
    "plt.xlabel('Subject')\n",
    "plt.ylabel('Change of SDLP')\n",
    "plt.title('Change of SDLP value between Normal and Sleepy condition')\n",
    "\n",
    "plt.savefig('../final_figures/sdlp_change.jpg')\n",
    "plt.show()"
   ]
  },
  {
   "cell_type": "markdown",
   "metadata": {},
   "source": [
    "## Karolinska Sleepiness Scale (KSS)\n",
    "Analyzing and comparing with the KSS scores, appointed during the turning point after half an hour of driving."
   ]
  },
  {
   "cell_type": "code",
   "execution_count": null,
   "metadata": {},
   "outputs": [],
   "source": [
    "# First we have to remove the zero values of subject 9,16 and 23, as these subjects only include SDLP data\n",
    "kss_labels = labels.copy()\n",
    "kss_labels.remove('9')\n",
    "kss_labels.remove('16')\n",
    "kss_labels.remove('23')\n",
    "kss3_normal.remove(0)\n",
    "kss3_sleepy.remove(0)\n",
    "kss3_normal.remove(0)\n",
    "kss3_sleepy.remove(0)\n",
    "kss3_normal.remove(0)\n",
    "kss3_sleepy.remove(0)\n",
    "\n",
    "# Check if the lengths of the lists are equivalent\n",
    "print(len(kss_labels), len(kss3_normal), len(kss3_sleepy))"
   ]
  },
  {
   "cell_type": "code",
   "execution_count": null,
   "metadata": {},
   "outputs": [],
   "source": [
    "X = np.arange(len(kss3_normal))\n",
    "\n",
    "plt.bar(X , kss3_normal, width = 0.4, label = 'Normal')\n",
    "plt.bar(X + 0.4, kss3_sleepy, width = 0.4, label = 'Sleep restricted')\n",
    "plt.legend()\n",
    "plt.xticks(X, kss_labels)\n",
    "plt.xlabel('Subject')\n",
    "plt.ylabel('KSS score')\n",
    "plt.title('KSS score of every subject and condition')\n",
    "\n",
    "plt.savefig('../final_figures/kss_per_subject.jpg')\n",
    "plt.show()\n",
    "\n"
   ]
  },
  {
   "cell_type": "code",
   "execution_count": null,
   "metadata": {},
   "outputs": [],
   "source": [
    "def analyze_kss(normal_scores, sleepy_scores, labels):\n",
    "    change = np.array(sleepy_scores) - np.array(normal_scores)\n",
    "    sleep_effect = np.where(change > 0)[0]\n",
    "    no_effect = np.where(change <= 0)[0]\n",
    "    \n",
    "    effect_subjects = [labels[i] for i in sleep_effect]\n",
    "    no_effect_subjects = [labels[i] for i in no_effect]\n",
    "    \n",
    "    print(\"Subjects where sleepy condition is more sleepy: \")\n",
    "    print(effect_subjects)\n",
    "    print(\"Subjects where sleepy condition is NOT more sleepy: \")\n",
    "    print(no_effect_subjects)\n",
    "    \n",
    "analyze_kss(kss3_normal, kss3_sleepy, kss_labels)"
   ]
  },
  {
   "cell_type": "markdown",
   "metadata": {},
   "source": [
    "## Shallow mean distance\n",
    "To be able to compare the shallow features with the sdlp values, the distance between the means of each condition is calculated for every subject. Because with these distance values I can make a comparison, otherwise I cannot compare a bunch of segment points with one sdlp difference value."
   ]
  },
  {
   "cell_type": "code",
   "execution_count": null,
   "metadata": {},
   "outputs": [],
   "source": [
    "# first lets load the shallow features\n",
    "from helping_functions import *\n",
    "\n",
    "def get_data(subject, treshhold, segment_length):\n",
    "    status_rates_sleepy, wrong_frames_sleepy = load_blinks(subject, 'sleepy') \n",
    "\n",
    "    status_rates_normal, wrong_frames_normal = load_blinks(subject, 'normal') \n",
    "    print(\"Starting segmenting normal condition\")\n",
    "    blink_counts_normal, average_durs_normal = run_analysis(status_rates_normal, wrong_frames_normal, treshhold, segment_length)\n",
    "\n",
    "    print(\"Starting segmenting sleepy condition\")\n",
    "    blink_counts_sleepy, average_durs_sleepy = run_analysis(status_rates_sleepy, wrong_frames_sleepy, treshhold, segment_length)\n",
    "\n",
    "    return list(zip(blink_counts_normal, average_durs_normal)), list(zip(blink_counts_sleepy, average_durs_sleepy))\n",
    "\n",
    "subject = 'subject1'\n",
    "minutes = 1\n",
    "threshold = 10\n",
    "segment_length = int(2760 * minutes)\n",
    "\n",
    "X_normal, X_sleepy = get_data(subject, threshold, segment_length)"
   ]
  },
  {
   "cell_type": "code",
   "execution_count": null,
   "metadata": {},
   "outputs": [],
   "source": [
    "def get_mean_distance(X_normal, X_sleepy, normalization):\n",
    "    if normalization:\n",
    "        # first normalization over all points in range 0-1 - minmax scaler\n",
    "        X = X_normal + X_sleepy\n",
    "        scaler = MinMaxScaler()\n",
    "        X_norm = scaler.fit_transform(X)\n",
    "        X_normal = X_norm[:len(X_normal)]\n",
    "        X_sleepy = X_norm[:len(X_sleepy)]\n",
    "\n",
    "    # calcualtion of the mans for both condition\n",
    "    mean_normal = np.mean(X_normal, axis=0)\n",
    "    mean_sleepy = np.mean(X_sleepy, axis=0)\n",
    "\n",
    "    # then the euclidean distance between these two means is calculated\n",
    "    distance = math.dist(mean_normal, mean_sleepy)\n",
    "    return distance\n",
    "\n",
    "distance = get_mean_distance(X_normal, X_sleepy, normalization = True)\n",
    "print(distance)"
   ]
  },
  {
   "cell_type": "code",
   "execution_count": null,
   "metadata": {},
   "outputs": [],
   "source": [
    "def get_dis_multi_subs(subjects, treshold, segment_length, normalization):\n",
    "    distances = []\n",
    "    for sub in subjects:\n",
    "        subject = 'subject' + str(sub)\n",
    "        print(subject)\n",
    "        X_normal, X_sleepy = get_data(subject, threshold, segment_length)\n",
    "        distance = get_mean_distance(X_normal, X_sleepy, normalization)\n",
    "        distances.append(distance)\n",
    "    return distances\n",
    "\n",
    "subjects = [1,3,4,6,7,9,10,11,12,14,15,16,20,23]\n",
    "\n",
    "treshold = 10\n",
    "minutes = 1\n",
    "segment_length = int(2760 * minutes)\n",
    "\n",
    "distances = get_dis_multi_subs(subjects, treshold, segment_length, normalization= False)"
   ]
  },
  {
   "cell_type": "code",
   "execution_count": null,
   "metadata": {},
   "outputs": [],
   "source": [
    "plt.bar(list(map(str, subjects)), list(np.array(distances)))\n",
    "plt.xlabel('Subject')\n",
    "plt.ylabel('Distance')\n",
    "plt.title('Euclidean distance between the means of normal and sleep restricted condition for all subjects')\n",
    "\n",
    "plt.savefig('../final_figures/mean_dist.jpg')\n",
    "plt.show()"
   ]
  },
  {
   "cell_type": "code",
   "execution_count": null,
   "metadata": {},
   "outputs": [],
   "source": [
    "# plot sdlp change of absolute values\n",
    "sdlp_change = np.array(sdlp_sleepy) - np.array(sdlp_normal)\n",
    "sdlp_change = np.absolute(sdlp_change)\n",
    "\n",
    "plt.bar(X_sdlp, sdlp_change)\n",
    "plt.xticks(X_sdlp, labels)\n",
    "plt.xlabel('Subject')\n",
    "plt.ylabel('Change of SDLP')\n",
    "plt.title('Change of SDLP value between Normal and Sleepy condition')\n",
    "\n",
    "plt.savefig('../final_figures/sdlp_change.jpg')\n",
    "plt.show()"
   ]
  },
  {
   "cell_type": "code",
   "execution_count": null,
   "metadata": {},
   "outputs": [],
   "source": [
    "plt.bar(X_sdlp , sdlp_change , width = 0.4, label = 'SDLP')\n",
    "plt.bar(X_sdlp + 0.4, list(np.array(distances)* 0.10 ), width = 0.4, label = 'Mean distance between conditions')\n",
    "plt.legend()\n",
    "plt.xticks(X_sdlp, labels)\n",
    "plt.xlabel('Subject')\n",
    "plt.ylabel('Difference between conditions')\n",
    "plt.title('Comparison between shallow facial features and SDLP')\n",
    "\n",
    "plt.savefig('../final_figures/sdlp_dist_comparison.jpg')\n",
    "plt.show()\n"
   ]
  },
  {
   "cell_type": "code",
   "execution_count": null,
   "metadata": {},
   "outputs": [],
   "source": [
    "from scipy.stats import pearsonr\n",
    "pearsonr(sdlp_change, np.array(distances) * 0.10)"
   ]
  }
 ],
 "metadata": {
  "kernelspec": {
   "display_name": "Python 3",
   "language": "python",
   "name": "python3"
  },
  "language_info": {
   "codemirror_mode": {
    "name": "ipython",
    "version": 3
   },
   "file_extension": ".py",
   "mimetype": "text/x-python",
   "name": "python",
   "nbconvert_exporter": "python",
   "pygments_lexer": "ipython3",
   "version": "3.6.8"
  }
 },
 "nbformat": 4,
 "nbformat_minor": 5
}
