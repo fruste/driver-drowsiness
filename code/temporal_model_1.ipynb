{
 "cells": [
  {
   "cell_type": "markdown",
   "metadata": {},
   "source": [
    "# Temporal models \n",
    "The first temporal models with the derived deep features as input, predicting a binary sleep deprivation label"
   ]
  },
  {
   "cell_type": "code",
   "execution_count": null,
   "metadata": {
    "collapsed": true
   },
   "outputs": [],
   "source": [
    "import numpy as np\n",
    "import tensorflow as tf\n",
    "from sklearn.metrics import f1_score\n",
    "from tensorflow.keras.models import Sequential\n",
    "from tensorflow.keras.layers import Dense, GRU, Dropout, SimpleRNN"
   ]
  },
  {
   "cell_type": "code",
   "execution_count": null,
   "metadata": {
    "collapsed": true
   },
   "outputs": [],
   "source": [
    "import gc\n",
    "gc.collect()\n",
    "tf.keras.backend.clear_session()\n",
    "from numba import cuda \n",
    "device = cuda.get_current_device()\n",
    "device.reset()"
   ]
  },
  {
   "cell_type": "markdown",
   "metadata": {},
   "source": [
    "## Helper functions"
   ]
  },
  {
   "cell_type": "code",
   "execution_count": null,
   "metadata": {
    "collapsed": true
   },
   "outputs": [],
   "source": [
    "def load_embeddings(subject):\n",
    "    path = '../embeddings/embeddings_' + subject\n",
    "    normal_embs = np.load(path + '_normal.npy')\n",
    "    sleepy_embs = np.load(path + '_sleepy.npy')\n",
    "\n",
    "    return normal_embs, sleepy_embs\n",
    "\n",
    "def load_multi_embeddings(subjects):\n",
    "    normal_dict = {}\n",
    "    sleepy_dict = {}\n",
    "\n",
    "    for sub in subjects:\n",
    "        path = '../embeddings/embeddings_sub' + str(sub)\n",
    "        normal_frames = np.load(path + '_normal.npy')\n",
    "        sleepy_frames = np.load(path + '_sleepy.npy')\n",
    "\n",
    "        normal_dict[str(sub)] = normal_frames\n",
    "        sleepy_dict[str(sub)] = sleepy_frames\n",
    "\n",
    "    return normal_dict, sleepy_dict"
   ]
  },
  {
   "cell_type": "markdown",
   "metadata": {},
   "source": [
    "## First model: GRU deep features"
   ]
  },
  {
   "cell_type": "markdown",
   "metadata": {},
   "source": [
    "### Model initiation"
   ]
  },
  {
   "cell_type": "code",
   "execution_count": null,
   "metadata": {},
   "outputs": [],
   "source": [
    "import gc\n",
    "gc.collect()\n",
    "print(\"Num GPUs Available: \", len(tf.config.list_physical_devices('GPU')))\n"
   ]
  },
  {
   "cell_type": "code",
   "execution_count": null,
   "metadata": {
    "collapsed": true
   },
   "outputs": [],
   "source": [
    "import numpy as np\n",
    "from sklearn.model_selection import train_test_split\n",
    "from keras.models import Sequential\n",
    "from keras.layers import Dense, GRU\n",
    "from keras.callbacks import EarlyStopping\n",
    "\n",
    "class DrowsinessDetector:\n",
    "    def __init__(self, segment_length):\n",
    "        self.segment_length = segment_length\n",
    "        self.input_shape = (self.segment_length, 2048)\n",
    "        \n",
    "    def split_frames(self, frames):\n",
    "        num_segments = len(frames) // self.segment_length\n",
    "        frames = frames[:num_segments * self.segment_length]\n",
    "        return np.array(np.split(frames, num_segments))\n",
    "    \n",
    "    def create_labels(self, num_segments, label):\n",
    "        return np.array([label] * num_segments)\n",
    "    \n",
    "    def shuffle_data(self, X, y):\n",
    "        indices = np.arange(len(X))\n",
    "        np.random.shuffle(indices)\n",
    "        return X[indices], y[indices]\n",
    "\n",
    "    def construct_model(self):\n",
    "        model = Sequential()\n",
    "        model.add(GRU(32, input_shape=self.input_shape))\n",
    "        model.add(Dropout(0.5))\n",
    "        model.add(Dense(1, activation='sigmoid'))\n",
    "        model.compile(loss='binary_crossentropy', optimizer='adam', metrics=['accuracy'])\n",
    "\n",
    "        return model\n",
    "\n",
    "    def get_data_one_sub(self, normal_frames, sleepy_frames):\n",
    "        X_normal = self.split_frames(normal_frames)\n",
    "        y_normal = self.create_labels(len(X_normal), 0)\n",
    "        X_sleepy = self.split_frames(sleepy_frames)\n",
    "        y_sleepy = self.create_labels(len(X_sleepy), 1)\n",
    "        X = np.concatenate((X_normal, X_sleepy))\n",
    "        y = np.concatenate((y_normal, y_sleepy))\n",
    "        X, y = self.shuffle_data(X, y)\n",
    "        X_train, X_test, y_train, y_test = train_test_split(X, y, test_size=0.2)\n",
    "        return X_train, X_test, y_train, y_test\n",
    "\n",
    "    def get_data_multi_sub(self, normal_frames_dict, sleepy_frames_dict, leave_out_ratio=0.3):\n",
    "            subjects = list(normal_frames_dict.keys())\n",
    "            leave_out_subjects = np.random.choice(subjects, int(len(subjects) * leave_out_ratio), replace=False)\n",
    "            print(\"Test subjects\", leave_out_subjects)\n",
    "\n",
    "            X_train, y_train = None, None\n",
    "            for subject in subjects:\n",
    "                if subject in leave_out_subjects:\n",
    "                    continue\n",
    "                print('train', subject)\n",
    "                frames = normal_frames_dict[subject]\n",
    "                X = self.split_frames(frames)\n",
    "                y = self.create_labels(len(X), 0)\n",
    "                if X_train is None:\n",
    "                    X_train, y_train = X, y\n",
    "                else:\n",
    "                    X_train = np.concatenate((X_train, X))\n",
    "                    y_train = np.concatenate((y_train, y))\n",
    "\n",
    "                frames = sleepy_frames_dict[subject]\n",
    "                X = self.split_frames(frames)\n",
    "                y = self.create_labels(len(X), 1)\n",
    "                X_train = np.concatenate((X_train, X))\n",
    "                y_train = np.concatenate((y_train, y))\n",
    "\n",
    "            X_test, y_test = None, None\n",
    "            for subject in leave_out_subjects:\n",
    "                print('test', subject)\n",
    "                frames = normal_frames_dict[subject]\n",
    "                X = self.split_frames(frames)\n",
    "                y = self.create_labels(len(X), 0)\n",
    "\n",
    "                if X_test is None:\n",
    "                    X_test, y_test = X, y\n",
    "                else:\n",
    "                    X_test = np.concatenate((X_test, X))\n",
    "                    y_test = np.concatenate((y_test, y))\n",
    "                    \n",
    "                frames = sleepy_frames_dict[subject]\n",
    "                X = self.split_frames(frames)\n",
    "                y = self.create_labels(len(X), 1)\n",
    "                \n",
    "                X_test = np.concatenate((X_test, X))\n",
    "                y_test = np.concatenate((y_test, y))\n",
    "\n",
    "            X_train, y_train = self.shuffle_data(X_train, y_train)\n",
    "            X_test, y_test = self.shuffle_data(X_test, y_test)\n",
    "\n",
    "            return X_train, X_test, y_train, y_test\n",
    "    \n",
    "    def train(self, X_train, y_train, num_epochs=10, batch_size=32, validation_split=0.2):\n",
    "        self.batch_size = batch_size\n",
    "        model = self.construct_model()\n",
    "        early_stop = EarlyStopping(monitor='val_loss', patience=3, verbose=1)\n",
    "\n",
    "        model.fit(X_train, y_train, epochs=num_epochs, batch_size=batch_size, validation_split=validation_split, callbacks=[early_stop])\n",
    "        \n",
    "        self.model = model\n",
    "        print(\"Done with training\")\n",
    "        return model\n",
    "    \n",
    "    def test(self, X_test, y_test):\n",
    "        model = self.model\n",
    "        return model.evaluate(X_test, y_test, batch_size=self.batch_size)\n",
    "    \n",
    "    def get_f1(self, X_test, y_test):\n",
    "        y_predict = model.predict(X_test, batch_size = self.batch_size)\n",
    "        y_predict_int = np.round(y_predict).astype(int).flatten()\n",
    "        f1 = f1_score(y_test, y_predict_int)\n",
    "        return f1"
   ]
  },
  {
   "cell_type": "code",
   "execution_count": null,
   "metadata": {},
   "outputs": [],
   "source": [
    "detector = DrowsinessDetector(segment_length=60 * 46)\n",
    "#normal_embs, sleepy_embs = load_embeddings('sub10')\n",
    "#X_train, X_test, y_train, y_test = detector.get_data_one_sub(normal_embs, sleepy_embs)\n",
    "\n",
    "subjects = [9,10, 11, 12, 14,15,16,20,23,24, 25]\n",
    "\n",
    "#subjects = [1,3,4,6]\n",
    "normal_dict, sleepy_dict = load_multi_embeddings(subjects)\n",
    "X_train, X_test, y_train, y_test = detector.get_data_multi_sub(normal_dict, sleepy_dict)\n",
    "\n",
    "model = detector.train(X_train, y_train, num_epochs=100, batch_size=8)\n",
    "#detector.test(X_test, y_test)\n",
    "#y_test, y_predict = detector.compare_predictions(X_test, y_test)\n",
    "#print(y_test, y_predict)"
   ]
  },
  {
   "cell_type": "code",
   "execution_count": null,
   "metadata": {
    "collapsed": true
   },
   "outputs": [],
   "source": [
    "# import gc\n",
    "# gc.collect()\n",
    "# y_predict = model.predict(X_test)\n",
    "# y_predict_int = np.round(y_predict).astype(int).flatten()\n",
    "# f1 = f1_score(y_test, y_predict_int)"
   ]
  },
  {
   "cell_type": "code",
   "execution_count": null,
   "metadata": {},
   "outputs": [],
   "source": [
    "import gc\n",
    "gc.collect()\n",
    "f1 = detector.get_f1(X_test, y_test)\n",
    "print(f1)"
   ]
  }
 ],
 "metadata": {
  "kernelspec": {
   "display_name": "Python 3",
   "language": "python",
   "name": "python3"
  },
  "language_info": {
   "codemirror_mode": {
    "name": "ipython",
    "version": 3
   },
   "file_extension": ".py",
   "mimetype": "text/x-python",
   "name": "python",
   "nbconvert_exporter": "python",
   "pygments_lexer": "ipython3",
   "version": "3.6.8"
  }
 },
 "nbformat": 4,
 "nbformat_minor": 5
}
