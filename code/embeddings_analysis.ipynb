{
 "cells": [
  {
   "cell_type": "code",
   "execution_count": 1,
   "id": "34e58cbd-821c-45d5-9961-47f61a833668",
   "metadata": {},
   "outputs": [],
   "source": [
    "import os\n",
    "import datetime\n",
    "import numpy as np\n",
    "from scipy import stats\n",
    "import matplotlib.pyplot as plt\n",
    "from IPython.display import Markdown, display"
   ]
  },
  {
   "cell_type": "code",
   "execution_count": 9,
   "id": "37ff7cbf-1977-44dc-b9d5-d5472919e679",
   "metadata": {},
   "outputs": [],
   "source": [
    "def load_embeddings(subject):\n",
    "    path = '../embeddings/' + subject\n",
    "    normal_embs = np.load(path + '_normal.npy')\n",
    "    sleepy_embs = np.load(path + '_sleepy.npy')\n",
    "    \n",
    "    return normal_embs, sleepy_embs"
   ]
  },
  {
   "cell_type": "code",
   "execution_count": 31,
   "id": "2123cba1-e29b-4c7f-a528-d19a78f0767c",
   "metadata": {},
   "outputs": [],
   "source": [
    "# Extracts average embedding in a segment from given embeddigs\n",
    "def embeddings_segment(embeddings, video_len, segment_len):\n",
    "    # The amount of frames at the end that are not taken into account\n",
    "    rest = video_len % segment_len\n",
    "    num_frames = video_len - rest\n",
    "    avg_embeddings = []\n",
    "    acum_embeddings = np.zeros(2048)\n",
    "    # a blink is counted to a segment,when the blink starts in that segment\n",
    "    for frame in range(num_frames + 1):\n",
    "        # if frame % 1000 == 0:\n",
    "        #     print(frame)\n",
    "        acum_embeddings = acum_embeddings + np.array(embeddings[frame])\n",
    "        # only happens at the end of a segment\n",
    "        if frame % segment_len == 0 and frame != 0:\n",
    "            avg_embeddings.append(acum_embeddings / segment_len)\n",
    "            acum_embeddings = np.zeros(2048)\n",
    "            #print('New segment: ', frame)\n",
    "    return avg_embeddings"
   ]
  },
  {
   "cell_type": "code",
   "execution_count": 32,
   "id": "5661a2c2-65f9-4a43-9e89-aee9c3760ce8",
   "metadata": {},
   "outputs": [
    {
     "name": "stdout",
     "output_type": "stream",
     "text": [
      "32016 42757\n"
     ]
    }
   ],
   "source": [
    "norm_embs, sleep_embs = load_embeddings('subject9')\n",
    "\n",
    "print(len(norm_embs), len(sleep_embs))\n",
    "avg_norm_embs = embeddings_segment(norm_embs, len(norm_embs), 46 * 60)\n",
    "avg_sleep_embs = embeddings_segment(sleep_embs, len(sleep_embs), 46 * 60)"
   ]
  },
  {
   "cell_type": "code",
   "execution_count": 41,
   "id": "d06c349e-6123-4eb3-bb3f-ff16a2cb2a7a",
   "metadata": {},
   "outputs": [
    {
     "name": "stdout",
     "output_type": "stream",
     "text": [
      "11 15\n"
     ]
    }
   ],
   "source": [
    "norm_len = len(avg_norm_embs)\n",
    "sleep_len = len(avg_sleep_embs)\n",
    "\n",
    "print(norm_len, sleep_len)"
   ]
  },
  {
   "cell_type": "code",
   "execution_count": 38,
   "id": "e46a6145-fede-4769-a878-997000b8f348",
   "metadata": {},
   "outputs": [
    {
     "name": "stdout",
     "output_type": "stream",
     "text": [
      "26\n"
     ]
    }
   ],
   "source": [
    "all_embs = avg_norm_embs + avg_sleep_embs\n",
    "print(len(all_embs))"
   ]
  },
  {
   "cell_type": "code",
   "execution_count": 42,
   "id": "2e7d9526-5945-402e-81f8-0789673ef336",
   "metadata": {},
   "outputs": [
    {
     "name": "stdout",
     "output_type": "stream",
     "text": [
      "15\n"
     ]
    }
   ],
   "source": [
    "from sklearn.decomposition import PCA\n",
    "\n",
    "pca = PCA(n_components=2)\n",
    "pri_comps = pca.fit_transform(all_embs)\n",
    "\n",
    "pc_normal = pri_comps[:norm_len]\n",
    "pc_sleep = pri_comps[norm_len:]"
   ]
  },
  {
   "cell_type": "code",
   "execution_count": 45,
   "id": "3e3b927a-d583-4b4e-8961-cbcf1fee47ac",
   "metadata": {},
   "outputs": [
    {
     "name": "stdout",
     "output_type": "stream",
     "text": [
      "11\n"
     ]
    }
   ],
   "source": [
    "print(len(pc_normal[:,1]))"
   ]
  },
  {
   "cell_type": "code",
   "execution_count": 52,
   "id": "2c67a488-40d6-448d-b80a-3d00e49afd80",
   "metadata": {},
   "outputs": [
    {
     "data": {
      "image/png": "[encoded data removed]",
      "text/plain": [
       "<Figure size 432x288 with 1 Axes>"
      ]
     },
     "metadata": {
      "needs_background": "light"
     },
     "output_type": "display_data"
    }
   ],
   "source": [
    "plt.scatter(pc_normal[:,0], pc_normal[:,1])\n",
    "plt.scatter(pc_sleep[:,0], pc_sleep[:,1])\n",
    "#plt.scatter(pri_comps[:,0], pri_comps[:,1])\n",
    "plt.xlabel\n",
    "plt.show()"
   ]
  },
  {
   "cell_type": "code",
   "execution_count": null,
   "id": "bef19721-e037-41b2-9d15-5b8bf113b84a",
   "metadata": {},
   "outputs": [],
   "source": []
  }
 ],
 "metadata": {
  "kernelspec": {
   "display_name": "Python 3 (ipykernel)",
   "language": "python",
   "name": "python3"
  },
  "language_info": {
   "codemirror_mode": {
    "name": "ipython",
    "version": 3
   },
   "file_extension": ".py",
   "mimetype": "text/x-python",
   "name": "python",
   "nbconvert_exporter": "python",
   "pygments_lexer": "ipython3",
   "version": "3.9.13"
  }
 },
 "nbformat": 4,
 "nbformat_minor": 5
}
