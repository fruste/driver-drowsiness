{
 "cells": [
  {
   "cell_type": "code",
   "execution_count": 203,
   "id": "34e58cbd-821c-45d5-9961-47f61a833668",
   "metadata": {},
   "outputs": [],
   "source": [
    "import os\n",
    "import datetime\n",
    "import numpy as np\n",
    "from scipy import stats\n",
    "import matplotlib.pyplot as plt\n",
    "from sklearn import preprocessing\n",
    "from IPython.display import Markdown, display"
   ]
  },
  {
   "cell_type": "code",
   "execution_count": 204,
   "id": "37ff7cbf-1977-44dc-b9d5-d5472919e679",
   "metadata": {},
   "outputs": [],
   "source": [
    "def load_embeddings(subject):\n",
    "    path = '../embeddings/embeddings_' + subject\n",
    "    normal_embs = np.load(path + '_normal.npy')\n",
    "    sleepy_embs = np.load(path + '_sleepy.npy')\n",
    "\n",
    "    return normal_embs, sleepy_embs"
   ]
  },
  {
   "cell_type": "code",
   "execution_count": 205,
   "id": "2123cba1-e29b-4c7f-a528-d19a78f0767c",
   "metadata": {},
   "outputs": [],
   "source": [
    "# Extracts average embedding in a segment from given embeddigs\n",
    "def embeddings_segment(embeddings, video_len, segment_len):\n",
    "    # The amount of frames at the end that are not taken into account\n",
    "    rest = video_len % segment_len\n",
    "    num_frames = video_len - rest\n",
    "    avg_embeddings = []\n",
    "    acum_embeddings = np.zeros(2048)\n",
    "    # a blink is counted to a segment,when the blink starts in that segment\n",
    "    for frame in range(num_frames + 1):\n",
    "        # if frame % 1000 == 0:\n",
    "        #     print(frame)\n",
    "        acum_embeddings = acum_embeddings + np.array(embeddings[frame])\n",
    "        # only happens at the end of a segment\n",
    "        if frame % segment_len == 0 and frame != 0:\n",
    "            avg_embeddings.append(acum_embeddings / segment_len)\n",
    "            acum_embeddings = np.zeros(2048)\n",
    "            #print('New segment: ', frame)\n",
    "    normalized_embeddings = preprocessing.normalize(avg_embeddings, norm='l2')\n",
    "    return normalized_embeddings"
   ]
  },
  {
   "cell_type": "code",
   "execution_count": 206,
   "id": "5661a2c2-65f9-4a43-9e89-aee9c3760ce8",
   "metadata": {},
   "outputs": [
    {
     "name": "stdout",
     "output_type": "stream",
     "text": [
      "32016 42757\n"
     ]
    }
   ],
   "source": [
    "norm_embs, sleep_embs = load_embeddings('sub9')\n",
    "\n",
    "print(len(norm_embs), len(sleep_embs))\n",
    "avg_norm_embs = embeddings_segment(norm_embs, len(norm_embs), 46 * 60)\n",
    "avg_sleep_embs = embeddings_segment(sleep_embs, len(sleep_embs), 46 * 60)"
   ]
  },
  {
   "cell_type": "code",
   "execution_count": 207,
   "id": "d06c349e-6123-4eb3-bb3f-ff16a2cb2a7a",
   "metadata": {},
   "outputs": [
    {
     "name": "stdout",
     "output_type": "stream",
     "text": [
      "11 15\n"
     ]
    }
   ],
   "source": [
    "norm_len = len(avg_norm_embs)\n",
    "sleep_len = len(avg_sleep_embs)\n",
    "\n",
    "print(norm_len, sleep_len)"
   ]
  },
  {
   "cell_type": "code",
   "execution_count": 194,
   "id": "e46a6145-fede-4769-a878-997000b8f348",
   "metadata": {},
   "outputs": [],
   "source": [
    "all_embs = list(avg_norm_embs) + list(avg_sleep_embs)"
   ]
  },
  {
   "cell_type": "code",
   "execution_count": 195,
   "id": "2e7d9526-5945-402e-81f8-0789673ef336",
   "metadata": {},
   "outputs": [],
   "source": [
    "from sklearn.decomposition import PCA\n",
    "\n",
    "pca = PCA(n_components=2)\n",
    "pri_comps = pca.fit_transform(all_embs)\n",
    "\n",
    "pc_normal = pri_comps[:norm_len]\n",
    "pc_sleep = pri_comps[norm_len:]"
   ]
  },
  {
   "cell_type": "code",
   "execution_count": 185,
   "id": "3e3b927a-d583-4b4e-8961-cbcf1fee47ac",
   "metadata": {},
   "outputs": [
    {
     "name": "stdout",
     "output_type": "stream",
     "text": [
      "11\n"
     ]
    }
   ],
   "source": [
    "print(len(pc_normal[:,1]))"
   ]
  },
  {
   "cell_type": "code",
   "execution_count": 187,
   "id": "2c67a488-40d6-448d-b80a-3d00e49afd80",
   "metadata": {},
   "outputs": [
    {
     "data": {
      "image/png": "[encoded data removed]",
      "text/plain": [
       "<Figure size 432x288 with 1 Axes>"
      ]
     },
     "metadata": {
      "needs_background": "light"
     },
     "output_type": "display_data"
    }
   ],
   "source": [
    "plt.scatter(pc_normal[:,0], pc_normal[:,1], label = 'Normal')\n",
    "plt.scatter(pc_sleep[:,0], pc_sleep[:,1], label = 'Sleep Restricted')\n",
    "#plt.scatter(pri_comps[:,0], pri_comps[:,1])\n",
    "\n",
    "plt.xlabel('Principal Component 1')\n",
    "plt.ylabel('Principal Component 2')\n",
    "plt.title('The first two principal components of 1 min segments of subject 9')\n",
    "plt.legend()\n",
    "plt.savefig('pc_plot_subject9_norm.jpg')\n",
    "plt.show()"
   ]
  },
  {
   "cell_type": "code",
   "execution_count": 198,
   "id": "4c5719a3-09ef-428d-a5a9-84e4fff87beb",
   "metadata": {},
   "outputs": [
    {
     "name": "stdout",
     "output_type": "stream",
     "text": [
      "done\n",
      "(41, 2048)\n"
     ]
    }
   ],
   "source": [
    "import os\n",
    "\n",
    "def make_textfile(embeddings):\n",
    "    with open('../textfiles/sub10/subject10_1', 'w') as f:\n",
    "        for row in embeddings:\n",
    "            first = True\n",
    "            for value in row:\n",
    "                if not first:\n",
    "                    f.write(';')\n",
    "                else:\n",
    "                    first = False\n",
    "                f.write(str(value))\n",
    "            f.write('\\n')\n",
    "    print('done')\n",
    "make_textfile(np.array(avg_norm_embs))\n",
    "print(np.array(avg_norm_embs).shape)"
   ]
  },
  {
   "cell_type": "markdown",
   "id": "7c253ae1-6255-475a-a37b-dfa87a6c6878",
   "metadata": {
    "tags": []
   },
   "source": [
    "## Clustering techniques\n",
    "### DBSCAN"
   ]
  },
  {
   "cell_type": "code",
   "execution_count": 189,
   "id": "8d926c39-694e-42b8-a651-edfe6f9a83a0",
   "metadata": {},
   "outputs": [
    {
     "name": "stdout",
     "output_type": "stream",
     "text": [
      "[4 4 4 4 4 4 4 4 4 4 4 1 0 0 0 1 3 3 2 0 3 3 2 1 1 3]\n"
     ]
    },
    {
     "data": {
      "image/png": "[encoded data removed]",
      "text/plain": [
       "<Figure size 432x288 with 1 Axes>"
      ]
     },
     "metadata": {
      "needs_background": "light"
     },
     "output_type": "display_data"
    },
    {
     "name": "stdout",
     "output_type": "stream",
     "text": [
      "[]\n"
     ]
    }
   ],
   "source": [
    "from sklearn.cluster import DBSCAN\n",
    "from sklearn_extra.cluster import KMedoids\n",
    "n = 5\n",
    "cluster_model = KMedoids(n_clusters=n).fit(np.array(all_embs))\n",
    "#cluster_model = DBSCAN(eps = 0.2).fit(np.array(all_embs))\n",
    "labels = cluster_model.labels_\n",
    "print(labels)\n",
    "\n",
    "all_values = []\n",
    "for label in range(n):\n",
    "    label_values = []\n",
    "    for i, emb in enumerate(pri_comps):\n",
    "        if labels[i] == label:\n",
    "            label_values.append(list(pri_comps[i]))\n",
    "    plt.scatter(np.array(label_values)[:,0], np.array(label_values)[:,1], label = str(label))\n",
    "\n",
    "plt.xlabel('Principal Component 1')\n",
    "plt.ylabel('Principal Component 2')\n",
    "plt.title('Clusters of 1 min segments of subject 10')\n",
    "plt.legend()\n",
    "plt.savefig('../figures/clusters_sub10.jpg')\n",
    "plt.show()\n",
    "print(all_values)"
   ]
  },
  {
   "cell_type": "markdown",
   "id": "d0b4904f-a40c-490d-959c-748757bbdba9",
   "metadata": {
    "jp-MarkdownHeadingCollapsed": true,
    "tags": []
   },
   "source": [
    "## Multiple subjects analysis"
   ]
  },
  {
   "cell_type": "code",
   "execution_count": 20,
   "id": "e38ae46e-b7df-4482-8847-8bfa7d7ada89",
   "metadata": {},
   "outputs": [
    {
     "name": "stdout",
     "output_type": "stream",
     "text": [
      "114829 131558\n",
      "114\n",
      "114\n",
      "114\n"
     ]
    }
   ],
   "source": [
    "norm_embs10, sleep_embs10 = load_embeddings('sub10')\n",
    "norm_embs9, sleep_embs9 = load_embeddings('sub9')\n",
    "\n",
    "avg_norm_embs10 = embeddings_segment(norm_embs10, len(norm_embs10), 46 * 60)\n",
    "avg_sleep_embs10 = embeddings_segment(sleep_embs10, len(sleep_embs10), 46 * 60)\n",
    "\n",
    "avg_norm_embs9 = embeddings_segment(norm_embs9, len(norm_embs9), 46 * 60)\n",
    "avg_sleep_embs9 = embeddings_segment(sleep_embs9, len(sleep_embs9), 46 * 60)\n",
    "\n",
    "print(len(norm_embs), len(sleep_embs))\n",
    "\n",
    "all_embs = avg_norm_embs9 + avg_sleep_embs9 + avg_norm_embs10 + avg_sleep_embs10\n",
    "norm_len9 = len(avg_norm_embs9)\n",
    "sleep_len9 = norm_len9 + len(avg_sleep_embs9)\n",
    "norm_len10 = sleep_len9 + len(avg_norm_embs10)\n",
    "sleep_len10 = norm_len10 + len(avg_sleep_embs10)\n",
    "print(len(all_embs))\n",
    "print(sleep_len10)\n",
    "\n",
    "pca = PCA(n_components=2)\n",
    "pri_comps_multi = pca.fit_transform(all_embs)\n",
    "\n",
    "pc_normal9 = pri_comps_multi[:norm_len9]\n",
    "pc_sleep9 = pri_comps_multi[norm_len9: sleep_len9]\n",
    "pc_normal10 = pri_comps_multi[sleep_len9:norm_len10]\n",
    "pc_sleep10 = pri_comps_multi[norm_len10:]\n",
    "\n",
    "print(len(pc_normal9) + len(pc_sleep9) + len(pc_normal10) + len(pc_sleep10))"
   ]
  },
  {
   "cell_type": "code",
   "execution_count": 21,
   "id": "36ca643a-41ce-48d6-b034-c0bff758210c",
   "metadata": {},
   "outputs": [
    {
     "data": {
      "image/png": "[encoded data removed]",
      "text/plain": [
       "<Figure size 432x288 with 1 Axes>"
      ]
     },
     "metadata": {
      "needs_background": "light"
     },
     "output_type": "display_data"
    }
   ],
   "source": [
    "plt.scatter(pc_normal9[:,0], pc_normal9[:,1], label = 'Normal Subject 9')\n",
    "plt.scatter(pc_sleep9[:,0], pc_sleep9[:,1], label = 'Sleep Restricted Subject 9')\n",
    "plt.scatter(pc_normal10[:,0], pc_normal10[:,1], label = 'Normal Subject 10')\n",
    "plt.scatter(pc_sleep10[:,0], pc_sleep10[:,1], label = 'Sleep Restricted Subject 10')\n",
    "#plt.scatter(pri_comps[:,0], pri_comps[:,1])\n",
    "\n",
    "plt.xlabel('Principal Component 1')\n",
    "plt.ylabel('Principal Component 2')\n",
    "plt.title('The first two principal components of 1 min segments of subject 9 and 10')\n",
    "plt.legend()\n",
    "plt.savefig('pc_plot_subj9&10.jpg')\n",
    "plt.show()"
   ]
  },
  {
   "cell_type": "code",
   "execution_count": null,
   "id": "a46c3af3-13bf-4c56-8cfb-91d331af2625",
   "metadata": {},
   "outputs": [],
   "source": []
  }
 ],
 "metadata": {
  "kernelspec": {
   "display_name": "Python 3 (ipykernel)",
   "language": "python",
   "name": "python3"
  },
  "language_info": {
   "codemirror_mode": {
    "name": "ipython",
    "version": 3
   },
   "file_extension": ".py",
   "mimetype": "text/x-python",
   "name": "python",
   "nbconvert_exporter": "python",
   "pygments_lexer": "ipython3",
   "version": "3.9.13"
  }
 },
 "nbformat": 4,
 "nbformat_minor": 5
}
