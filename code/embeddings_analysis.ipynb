{
 "cells": [
  {
   "cell_type": "code",
   "execution_count": 135,
   "id": "34e58cbd-821c-45d5-9961-47f61a833668",
   "metadata": {},
   "outputs": [],
   "source": [
    "import os\n",
    "import datetime\n",
    "import numpy as np\n",
    "from scipy import stats\n",
    "import matplotlib.pyplot as plt\n",
    "from sklearn.cluster import DBSCAN\n",
    "from sklearn import preprocessing\n",
    "from IPython.display import Markdown, display"
   ]
  },
  {
   "cell_type": "code",
   "execution_count": 136,
   "id": "37ff7cbf-1977-44dc-b9d5-d5472919e679",
   "metadata": {},
   "outputs": [],
   "source": [
    "def load_embeddings(subject):\n",
    "    path = '../embeddings/embeddings_' + subject\n",
    "    normal_embs = np.load(path + '_normal.npy')\n",
    "    sleepy_embs = np.load(path + '_sleepy.npy')\n",
    "\n",
    "    return normal_embs, sleepy_embs"
   ]
  },
  {
   "cell_type": "code",
   "execution_count": 137,
   "id": "2123cba1-e29b-4c7f-a528-d19a78f0767c",
   "metadata": {},
   "outputs": [],
   "source": [
    "# Extracts average embedding in a segment from given embeddigs\n",
    "def embeddings_segment(embeddings, video_len, segment_len):\n",
    "    # The amount of frames at the end that are not taken into account\n",
    "    rest = video_len % segment_len\n",
    "    num_frames = video_len - rest\n",
    "    avg_embeddings = []\n",
    "    acum_embeddings = np.zeros(2048)\n",
    "    # a blink is counted to a segment,when the blink starts in that segment\n",
    "    for frame in range(num_frames + 1):\n",
    "        # if frame % 1000 == 0:\n",
    "        #     print(frame)\n",
    "        acum_embeddings = acum_embeddings + np.array(embeddings[frame])\n",
    "        # only happens at the end of a segment\n",
    "        if frame % segment_len == 0 and frame != 0:\n",
    "            avg_embeddings.append(acum_embeddings / segment_len)\n",
    "            acum_embeddings = np.zeros(2048)\n",
    "            #print('New segment: ', frame)\n",
    "    normalized_embeddings = preprocessing.normalize(avg_embeddings, norm='l2')\n",
    "    return normalized_embeddings"
   ]
  },
  {
   "cell_type": "code",
   "execution_count": null,
   "id": "5661a2c2-65f9-4a43-9e89-aee9c3760ce8",
   "metadata": {},
   "outputs": [
    {
     "name": "stdout",
     "output_type": "stream",
     "text": [
      "164446 99995\n"
     ]
    }
   ],
   "source": [
    "subject = 'sub25'\n",
    "norm_embs, sleep_embs = load_embeddings(subject)\n",
    "\n",
    "print(len(norm_embs), len(sleep_embs))\n",
    "avg_norm_embs = embeddings_segment(norm_embs, len(norm_embs), 46 * 60)\n",
    "avg_sleep_embs = embeddings_segment(sleep_embs, len(sleep_embs), 46 * 60)"
   ]
  },
  {
   "cell_type": "code",
   "execution_count": null,
   "id": "d06c349e-6123-4eb3-bb3f-ff16a2cb2a7a",
   "metadata": {},
   "outputs": [],
   "source": [
    "norm_len = len(avg_norm_embs)\n",
    "sleep_len = len(avg_sleep_embs)\n",
    "all_embs = list(avg_norm_embs) + list(avg_sleep_embs)\n",
    "\n",
    "print(norm_len, sleep_len)"
   ]
  },
  {
   "cell_type": "code",
   "execution_count": null,
   "id": "2e7d9526-5945-402e-81f8-0789673ef336",
   "metadata": {},
   "outputs": [],
   "source": [
    "from sklearn.decomposition import PCA\n",
    "\n",
    "pca = PCA(n_components=2)\n",
    "pri_comps = pca.fit_transform(all_embs)\n",
    "\n",
    "pc_normal = pri_comps[:norm_len]\n",
    "pc_sleep = pri_comps[norm_len:]"
   ]
  },
  {
   "cell_type": "code",
   "execution_count": null,
   "id": "2c67a488-40d6-448d-b80a-3d00e49afd80",
   "metadata": {},
   "outputs": [],
   "source": [
    "plt.scatter(pc_normal[:,0], pc_normal[:,1], label = 'Normal')\n",
    "plt.scatter(pc_sleep[:,0], pc_sleep[:,1], label = 'Sleep Restricted')\n",
    "#plt.scatter(pri_comps[:,0], pri_comps[:,1])\n",
    "\n",
    "plt.xlabel('Principal Component 1')\n",
    "plt.ylabel('Principal Component 2')\n",
    "plt.title('The first two principal components of 1 min segments of subject '+ subject[-2:])\n",
    "plt.legend()\n",
    "plt.savefig('../final_figures/pc_plot_subject'+ subject[-2:] + '.jpg')\n",
    "plt.show()"
   ]
  },
  {
   "cell_type": "markdown",
   "id": "856df9e8-23c3-4066-b0a5-4a31ec960279",
   "metadata": {},
   "source": [
    "## Temporal analysis"
   ]
  },
  {
   "cell_type": "code",
   "execution_count": null,
   "id": "9bb7a54c-dee3-4aa6-81aa-7b84bee37797",
   "metadata": {},
   "outputs": [],
   "source": [
    "def gradient_plot(comp1, comp2, condition, time, size=40, text = False):\n",
    "    plt.title(\"Deep features of \" + time + \" min segments for subject \" + subject[-2:] + ' in ' + condition + ' condition')\n",
    "    plt.xlabel(\"Principal Component 1\")\n",
    "    plt.ylabel(\"Principal Component 2\")\n",
    "    plt.scatter(comp1, comp2, label = condition, cmap = 'Blues', c = range(len(comp1)), s=size)\n",
    "    if text:\n",
    "        for i in range(len(comp1)):\n",
    "            plt.annotate(i + 1, (comp1[i], comp2[i]), fontsize = 20)\n",
    "\n",
    "    plt.savefig('../final_figures/deep_gradient_scatter_' + subject + condition + time + '_min.jpg')\n",
    "    plt.show()\n",
    "\n",
    "def average(values, avg_len):\n",
    "    new_values = []\n",
    "    sum_values = []\n",
    "    for i, val in enumerate(values):\n",
    "        sum_values.append(val)\n",
    "        if i % avg_len == 0 and i > 0:\n",
    "            new_values.append(sum(sum_values) / len(sum_values))\n",
    "            sum_values = []\n",
    "            \n",
    "    # if there are rest values\n",
    "    if len(sum_values) > 0:\n",
    "        new_values.append(sum(sum_values) / len(sum_values))\n",
    "    return new_values\n",
    "\n",
    "avg_len = 10\n",
    "avg_comp1_normal = average(pc_normal[:,0], avg_len)\n",
    "avg_comp2_normal = average(pc_normal[:,1], avg_len)\n",
    "\n",
    "gradient_plot(avg_comp1_normal, avg_comp2_normal, 'normal', str(avg_len), size=180, text = True)\n",
    "gradient_plot(pc_normal[:,0], pc_normal[:,1], 'normal', '1')\n",
    "plt.show()\n",
    "\n",
    "avg_comp1_sleepy = average(pc_sleep[:,0], avg_len)\n",
    "avg_comp2_sleepy = average(pc_sleep[:,1], avg_len)\n",
    "\n",
    "gradient_plot(avg_comp1_sleepy, avg_comp2_sleepy, 'sleepy', str(avg_len), size=180, text = True)\n",
    "gradient_plot(pc_sleep[:,0], pc_sleep[:,1], 'sleepy', '1')\n",
    "plt.show()"
   ]
  },
  {
   "cell_type": "markdown",
   "id": "7c253ae1-6255-475a-a37b-dfa87a6c6878",
   "metadata": {
    "tags": []
   },
   "source": [
    "## Clustering techniques\n",
    "### DBSCAN"
   ]
  },
  {
   "cell_type": "code",
   "execution_count": 133,
   "id": "38c2f034-6f1e-47dc-9ea7-8399c4785374",
   "metadata": {},
   "outputs": [
    {
     "name": "stdout",
     "output_type": "stream",
     "text": [
      "[0 0 0 0 0 0 0 0 0 0 0 0 0 0 0 0 0 0 0 0 0 0 0 0 0 0 0 0 0 0 0 0 0 0 0]\n"
     ]
    },
    {
     "data": {
      "image/png": "[encoded data removed]",
      "text/plain": [
       "<Figure size 432x288 with 1 Axes>"
      ]
     },
     "metadata": {
      "needs_background": "light"
     },
     "output_type": "display_data"
    }
   ],
   "source": [
    "def plot_clusters(embs, pri_comps, epsilon, cond):\n",
    "    cluster_model = DBSCAN(eps = epsilon, min_samples = 1).fit(np.array(embs))\n",
    "    labels = cluster_model.labels_\n",
    "    uni_labels = np.unique(labels)\n",
    "    print(labels)\n",
    "\n",
    "    all_values = []\n",
    "    for label in uni_labels:\n",
    "        label_values = []\n",
    "        for i, emb in enumerate(pri_comps):\n",
    "            if labels[i] == label:\n",
    "                label_values.append(list(pri_comps[i]))\n",
    "        plt.scatter(np.array(label_values)[:,0], np.array(label_values)[:,1], label = str(label))\n",
    "\n",
    "    plt.xlabel('Principal Component 1')\n",
    "    plt.ylabel('Principal Component 2')\n",
    "    plt.title('DBSCAN Clustering of 1 min segments of subject ' + subject[-2:]  + ' ' + cond + ' condition')\n",
    "    plt.legend()\n",
    "\n",
    "    plt.savefig('../final_figures/clusters_' + subject + '_' + cond + '.jpg')\n",
    "    plt.show()\n",
    "    \n",
    "    return labels\n",
    "\n",
    "#all_labels = plot_clusters(all_embs, pri_comps, 0.3, \"all\")\n",
    "normal_labels = plot_clusters(avg_norm_embs, pc_normal, 0.24, \"normal\")\n",
    "#sleep_labels = plot_clusters(avg_sleep_embs, pc_sleep, 0.25, \"sleepy\")"
   ]
  },
  {
   "cell_type": "markdown",
   "id": "11508d6d-250f-49da-8d3e-d3d90019198a",
   "metadata": {},
   "source": [
    "### Evolution of clusters trough time"
   ]
  },
  {
   "cell_type": "code",
   "execution_count": 134,
   "id": "a38960dd-a6e5-4fb6-b781-9f325c163000",
   "metadata": {},
   "outputs": [
    {
     "data": {
      "image/png": "[encoded data removed]",
      "text/plain": [
       "<Figure size 432x288 with 1 Axes>"
      ]
     },
     "metadata": {
      "needs_background": "light"
     },
     "output_type": "display_data"
    }
   ],
   "source": [
    "def make_barplot(labels, cond):\n",
    "    occurences = {}\n",
    "    y_values = []\n",
    "    \n",
    "    all_colors = ['blue', 'orange', 'green', 'red', 'cyan', 'yellow', 'purple', 'olive', 'pink']\n",
    "    colors = []\n",
    "    \n",
    "    for lab in labels:\n",
    "        if lab in occurences:\n",
    "            occurences[lab] += 1\n",
    "        else:\n",
    "            occurences[lab] = 1\n",
    "        y_values.append(occurences[lab])\n",
    "        colors.append(all_colors[lab])\n",
    "    x_values = range(len(labels))\n",
    "    \n",
    "    plt.bar(x_values, y_values, color=colors)\n",
    "    plt.title(\"Evolution of clusters of subject \" + subject[-2:] + \" \" + cond + \" condition using DBSCAN\")\n",
    "    plt.xlabel(\"Time in Minutes\")\n",
    "    plt.ylabel(\"Size of clusters\")\n",
    "    plt.savefig(\"../final_figures/clusters_evolution_\" + subject + \"_\" + cond + \".jpg\")\n",
    "    plt.show()\n",
    "\n",
    "#make_barplot(all_labels, \"all\")\n",
    "make_barplot(normal_labels, \"normal\")\n",
    "#make_barplot(sleep_labels, \"sleepy\")"
   ]
  },
  {
   "cell_type": "code",
   "execution_count": 75,
   "id": "a1e9fe1e-5351-41c9-8ac2-af065b913e27",
   "metadata": {},
   "outputs": [
    {
     "name": "stdout",
     "output_type": "stream",
     "text": [
      "67\n"
     ]
    }
   ],
   "source": [
    "from sklearn.manifold import TSNE\n",
    "tsne_data = TSNE(perplexity = 20 ).fit_transform(np.array(all_embs))\n",
    "\n",
    "tsne_normal = tsne_data[:norm_len]\n",
    "tsne_sleep = tsne_data[norm_len:]\n",
    "print(len(tsne_normal))"
   ]
  },
  {
   "cell_type": "code",
   "execution_count": 76,
   "id": "98d38f6d-f242-41cb-8fa3-4a1cb8d66bbb",
   "metadata": {},
   "outputs": [
    {
     "data": {
      "image/png": "[encoded data removed]",
      "text/plain": [
       "<Figure size 432x288 with 1 Axes>"
      ]
     },
     "metadata": {
      "needs_background": "light"
     },
     "output_type": "display_data"
    }
   ],
   "source": [
    "plt.scatter(tsne_normal[:,0], tsne_normal[:,1], label = 'Normal')\n",
    "plt.scatter(tsne_sleep[:,0], tsne_sleep[:,1], label = 'Sleep Restricted')\n",
    "\n",
    "plt.xlabel('T-SNE Component 1')\n",
    "plt.ylabel('T-SNE Component 2')\n",
    "plt.title('Visualizing 1 min segments of subject ' + subject[-2:] + ' using t-SNE')\n",
    "plt.legend()\n",
    "plt.savefig('../final_figures/tsne_plot_subject' + subject[-2:] + '.jpg')\n",
    "plt.show()"
   ]
  },
  {
   "cell_type": "code",
   "execution_count": 105,
   "id": "b75aaf44-7505-416b-ac38-d3125b3a4088",
   "metadata": {},
   "outputs": [
    {
     "name": "stdout",
     "output_type": "stream",
     "text": [
      "[0 1 1 0 0 0 0 0 0 0 0 0 0 0 0 0 0 0 0 0 0 0 0 0 0 0 0 0 0 0 0 0 0 0 0 0 0\n",
      " 2 0 0 0 3 3 3 3 3 3 3 3 3 3 3 3 3 3 3 3 3 3 3 3 3 3 3 3 3 3 3 3 3 3 3 3 3\n",
      " 3 3 3 3 3 3 3 3 3 3 3 3 3 3]\n"
     ]
    },
    {
     "data": {
      "image/png": "[encoded data removed]",
      "text/plain": [
       "<Figure size 432x288 with 1 Axes>"
      ]
     },
     "metadata": {
      "needs_background": "light"
     },
     "output_type": "display_data"
    }
   ],
   "source": [
    "cluster_model = DBSCAN(eps = 0.28, min_samples = 1).fit(np.array(all_embs))\n",
    "labels = cluster_model.labels_\n",
    "uni_labels = np.unique(labels)\n",
    "print(labels)\n",
    "\n",
    "all_values = []\n",
    "for label in uni_labels:\n",
    "    label_values = []\n",
    "    for i, emb in enumerate(tsne_data):\n",
    "        if labels[i] == label:\n",
    "            label_values.append(list(tsne_data[i]))\n",
    "    plt.scatter(np.array(label_values)[:,0], np.array(label_values)[:,1], label = str(label))\n",
    "\n",
    "plt.xlabel('T-sne Component 1')\n",
    "plt.ylabel('T-sne Component 2')\n",
    "plt.title('Clusters of 1 min segments of subject 10')\n",
    "plt.legend()\n",
    "\n",
    "plt.savefig('../figures/clusters_sub10_tsne.jpg')\n",
    "plt.show()"
   ]
  },
  {
   "cell_type": "markdown",
   "id": "d0b4904f-a40c-490d-959c-748757bbdba9",
   "metadata": {
    "tags": []
   },
   "source": [
    "## Multiple subjects analysis"
   ]
  },
  {
   "cell_type": "code",
   "execution_count": 20,
   "id": "e38ae46e-b7df-4482-8847-8bfa7d7ada89",
   "metadata": {},
   "outputs": [
    {
     "name": "stdout",
     "output_type": "stream",
     "text": [
      "114829 131558\n",
      "114\n",
      "114\n",
      "114\n"
     ]
    }
   ],
   "source": [
    "norm_embs10, sleep_embs10 = load_embeddings('sub10')\n",
    "norm_embs9, sleep_embs9 = load_embeddings('sub9')\n",
    "\n",
    "avg_norm_embs10 = embeddings_segment(norm_embs10, len(norm_embs10), 46 * 60)\n",
    "avg_sleep_embs10 = embeddings_segment(sleep_embs10, len(sleep_embs10), 46 * 60)\n",
    "\n",
    "avg_norm_embs9 = embeddings_segment(norm_embs9, len(norm_embs9), 46 * 60)\n",
    "avg_sleep_embs9 = embeddings_segment(sleep_embs9, len(sleep_embs9), 46 * 60)\n",
    "\n",
    "print(len(norm_embs), len(sleep_embs))\n",
    "\n",
    "all_embs = avg_norm_embs9 + avg_sleep_embs9 + avg_norm_embs10 + avg_sleep_embs10\n",
    "norm_len9 = len(avg_norm_embs9)\n",
    "sleep_len9 = norm_len9 + len(avg_sleep_embs9)\n",
    "norm_len10 = sleep_len9 + len(avg_norm_embs10)\n",
    "sleep_len10 = norm_len10 + len(avg_sleep_embs10)\n",
    "print(len(all_embs))\n",
    "print(sleep_len10)\n",
    "\n",
    "pca = PCA(n_components=2)\n",
    "pri_comps_multi = pca.fit_transform(all_embs)\n",
    "\n",
    "pc_normal9 = pri_comps_multi[:norm_len9]\n",
    "pc_sleep9 = pri_comps_multi[norm_len9: sleep_len9]\n",
    "pc_normal10 = pri_comps_multi[sleep_len9:norm_len10]\n",
    "pc_sleep10 = pri_comps_multi[norm_len10:]\n",
    "\n",
    "print(len(pc_normal9) + len(pc_sleep9) + len(pc_normal10) + len(pc_sleep10))"
   ]
  },
  {
   "cell_type": "code",
   "execution_count": 21,
   "id": "36ca643a-41ce-48d6-b034-c0bff758210c",
   "metadata": {},
   "outputs": [
    {
     "data": {
      "image/png": "[encoded data removed]",
      "text/plain": [
       "<Figure size 432x288 with 1 Axes>"
      ]
     },
     "metadata": {
      "needs_background": "light"
     },
     "output_type": "display_data"
    }
   ],
   "source": [
    "plt.scatter(pc_normal9[:,0], pc_normal9[:,1], label = 'Normal Subject 9')\n",
    "plt.scatter(pc_sleep9[:,0], pc_sleep9[:,1], label = 'Sleep Restricted Subject 9')\n",
    "plt.scatter(pc_normal10[:,0], pc_normal10[:,1], label = 'Normal Subject 10')\n",
    "plt.scatter(pc_sleep10[:,0], pc_sleep10[:,1], label = 'Sleep Restricted Subject 10')\n",
    "#plt.scatter(pri_comps[:,0], pri_comps[:,1])\n",
    "\n",
    "plt.xlabel('Principal Component 1')\n",
    "plt.ylabel('Principal Component 2')\n",
    "plt.title('The first two principal components of 1 min segments of subject 9 and 10')\n",
    "plt.legend()\n",
    "plt.savefig('pc_plot_subj9&10.jpg')\n",
    "plt.show()"
   ]
  },
  {
   "cell_type": "markdown",
   "id": "ef8ec270-c052-400e-8939-2daf3da68c2d",
   "metadata": {},
   "source": [
    "### Textfile"
   ]
  },
  {
   "cell_type": "code",
   "execution_count": null,
   "id": "a46c3af3-13bf-4c56-8cfb-91d331af2625",
   "metadata": {},
   "outputs": [],
   "source": [
    "import os\n",
    "\n",
    "def make_textfile(embeddings):\n",
    "    with open('../textfiles/' + subject + '/' + subject + '_1', 'w') as f:\n",
    "        for row in embeddings:\n",
    "            first = True\n",
    "            for value in row:\n",
    "                if not first:\n",
    "                    f.write(';')\n",
    "                else:\n",
    "                    first = False\n",
    "                f.write(str(value))\n",
    "            f.write('\\n')\n",
    "    print('done')\n",
    "make_textfile(np.array(avg_norm_embs))\n",
    "print(np.array(avg_norm_embs).shape)"
   ]
  }
 ],
 "metadata": {
  "kernelspec": {
   "display_name": "Python 3 (ipykernel)",
   "language": "python",
   "name": "python3"
  },
  "language_info": {
   "codemirror_mode": {
    "name": "ipython",
    "version": 3
   },
   "file_extension": ".py",
   "mimetype": "text/x-python",
   "name": "python",
   "nbconvert_exporter": "python",
   "pygments_lexer": "ipython3",
   "version": "3.9.13"
  }
 },
 "nbformat": 4,
 "nbformat_minor": 5
}
