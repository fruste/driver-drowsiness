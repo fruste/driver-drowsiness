{
 "cells": [
  {
   "cell_type": "code",
   "execution_count": 1,
   "id": "a1b42e6d",
   "metadata": {},
   "outputs": [
    {
     "name": "stderr",
     "output_type": "stream",
     "text": [
      "/anaconda/envs/py38_default/lib/python3.8/site-packages/scipy/__init__.py:146: UserWarning: A NumPy version >=1.16.5 and <1.23.0 is required for this version of SciPy (detected version 1.23.1\n",
      "  warnings.warn(f\"A NumPy version >={np_minversion} and <{np_maxversion}\"\n"
     ]
    }
   ],
   "source": [
    "import cv2, dlib, imutils\n",
    "import numpy as np\n",
    "from imutils import face_utils\n",
    "from tensorflow.keras.models import load_model\n",
    "import matplotlib.pyplot as plt"
   ]
  },
  {
   "cell_type": "code",
   "execution_count": 2,
   "id": "fff1f106",
   "metadata": {},
   "outputs": [],
   "source": [
    "def detect_blink(eye_img):\n",
    "    pred_B = model_b.predict(eye_img, verbose = 0)\n",
    "    status = pred_B[0][0]\n",
    "    status = status*100\n",
    "    status = round(status,3)\n",
    "    return  status\n",
    "\n",
    "   \n",
    "def crop_eye(img, eye_points):\n",
    "    x1, y1 = np.amin(eye_points, axis=0)\n",
    "    x2, y2 = np.amax(eye_points, axis=0)\n",
    "    cx, cy = (x1 + x2) / 2, (y1 + y2) / 2\n",
    "\n",
    "    w = (x2 - x1) * 1.2\n",
    "    h = w * IMG_SIZE[1] / IMG_SIZE[0]\n",
    "\n",
    "    margin_x, margin_y = w / 2, h / 2\n",
    "\n",
    "    min_x, min_y = int(cx - margin_x), int(cy - margin_y)\n",
    "    max_x, max_y = int(cx + margin_x), int(cy + margin_y)\n",
    "\n",
    "    eye_rect = np.rint([min_x, min_y, max_x, max_y]).astype(int)\n",
    "\n",
    "    eye_img = gray[eye_rect[1]:eye_rect[3], eye_rect[0]:eye_rect[2]]\n",
    "\n",
    "    return eye_img, eye_rect\n",
    "\n",
    "# load a test image, resize it, and convert it to grayscale\n",
    "def load_image(path, face_detector, show=False, gray_show=False):\n",
    "    test_image = cv2.imread(path)\n",
    "    test_image = cv2.cvtColor(test_image, cv2.COLOR_BGR2RGB)\n",
    "    \n",
    "    test_image = imutils.resize(test_image, width=500)\n",
    "    gray = cv2.cvtColor(test_image, cv2.COLOR_RGB2GRAY)\n",
    "    \n",
    "    if show:\n",
    "        plt.imshow(test_image)\n",
    "        plt.show()\n",
    "        if gray_show:\n",
    "            plt.imshow(gray, cmap='gray')\n",
    "            plt.show()\n",
    "    \n",
    "     # detect faces in the grayscale image\n",
    "    if face_detector == 'dlib':\n",
    "        rects = detector(gray, 1)\n",
    "    elif face_detector == 'haar':\n",
    "        detections = haar_cascade.detectMultiScale(gray, scaleFactor=1.05, minNeighbors=5, minSize=(100, 100), flags=cv2.CASCADE_SCALE_IMAGE)\n",
    "        #Checking if there are more than 1 detected faces\n",
    "        if len(detections) > 1:\n",
    "            print('multiple faces', frame)\n",
    "            # The predicted faces are boxes (same width and height). The last two values correspond to these.\n",
    "            # So by just checking which is higher, I can find the correct face\n",
    "            if detections[0][2] > detections[1][2]:\n",
    "                face = detections[0]\n",
    "            else:\n",
    "                face = detections[1]\n",
    "        else:\n",
    "            face = detections[0]\n",
    "        fX, fY, fW, fH = face[0],face[1], face[2], face[3]    \n",
    "        rects = [dlib.rectangle(fX, fY, fX + fW, fY + fH)]\n",
    "    return test_image, gray, rects\n",
    "\n",
    "def get_landmarks(img, gray, rects, show=False):\n",
    "    # loop over the face detections\n",
    "    for (i, rect) in enumerate(rects):\n",
    "        # determine the facial landmarks for the face region, then convert the facial landmark (x, y)-coordinates to a NumPy array\n",
    "        shape = predictor(gray, rect)\n",
    "        shape = face_utils.shape_to_np(shape)\n",
    "        if show: \n",
    "            # convert dlib's rectangle to a OpenCV-style bounding box [i.e., (x, y, w, h)], then draw the face bounding box\n",
    "            (x, y, w, h) = face_utils.rect_to_bb(rect)\n",
    "            cv2.rectangle(img, (x, y), (x + w, y + h), (0, 255, 0), 2)\n",
    "            # loop over the (x, y)-coordinates for the facial landmarks and draw them on the image\n",
    "            for (x, y) in shape:\n",
    "                cv2.circle(img, (x, y), 1, (0, 0, 255), -1)\n",
    "    if show:     \n",
    "        # show the output image with the face detections + facial landmarks\n",
    "        plt.imshow(img)\n",
    "        plt.show()\n",
    "    return shape"
   ]
  },
  {
   "cell_type": "code",
   "execution_count": 4,
   "id": "8bd0b380",
   "metadata": {},
   "outputs": [
    {
     "name": "stderr",
     "output_type": "stream",
     "text": [
      "2022-10-05 08:41:16.562979: E tensorflow/stream_executor/cuda/cuda_driver.cc:271] failed call to cuInit: CUDA_ERROR_NO_DEVICE: no CUDA-capable device is detected\n",
      "2022-10-05 08:41:16.563043: I tensorflow/stream_executor/cuda/cuda_diagnostics.cc:156] kernel driver does not appear to be running on this host (FelixVM-3): /proc/driver/nvidia/version does not exist\n",
      "2022-10-05 08:41:16.568189: I tensorflow/core/platform/cpu_feature_guard.cc:193] This TensorFlow binary is optimized with oneAPI Deep Neural Network Library (oneDNN) to use the following CPU instructions in performance-critical operations:  AVX2 AVX512F FMA\n",
      "To enable them in other operations, rebuild TensorFlow with the appropriate compiler flags.\n"
     ]
    }
   ],
   "source": [
    "IMG_SIZE = (1296,730)\n",
    "B_SIZE = (34, 26)\n",
    "\n",
    "#path = '../test_frames/frame848.jpg'\n",
    "\n",
    "# haar Cascade path\n",
    "cascade_path = '../models/haarcascade_frontalface_default.xml'\n",
    "# create haar cascade\n",
    "haar_cascade = cv2.CascadeClassifier(cascade_path)\n",
    "\n",
    "# define pre-trained landmark detector path\n",
    "ld_path = '../models/shape_predictor_68_face_landmarks.dat'\n",
    "predictor = dlib.shape_predictor(ld_path)\n",
    "\n",
    "model_b = load_model('../models/blinkdetection.h5')\n",
    "\n",
    "face_detector = 'haar'"
   ]
  },
  {
   "cell_type": "code",
   "execution_count": 5,
   "id": "bef8b9b5",
   "metadata": {},
   "outputs": [
    {
     "name": "stdout",
     "output_type": "stream",
     "text": [
      "0\n",
      "100\n",
      "200\n",
      "300\n",
      "400\n",
      "500\n",
      "600\n",
      "700\n",
      "800\n",
      "900\n",
      "1000\n",
      "1100\n",
      "1200\n",
      "1300\n",
      "1400\n",
      "1500\n",
      "1600\n",
      "1700\n",
      "1800\n",
      "1900\n",
      "2000\n",
      "2100\n",
      "2200\n",
      "2300\n",
      "2400\n",
      "multiple faces 2472\n",
      "2500\n",
      "2600\n",
      "2700\n",
      "2800\n"
     ]
    }
   ],
   "source": [
    "frame_start = 0\n",
    "frame_end = 2804  # last frame is 2804\n",
    "frames = range(frame_start, frame_end + 1)\n",
    "\n",
    "status_rates = []\n",
    "\n",
    "for frame in frames:\n",
    "    if frame % 100 == 0:\n",
    "        print(frame)\n",
    "    path = '../test_frames/frame' + str(frame) + '.jpg'\n",
    "    test_img, gray, rects = load_image(path, face_detector, show=False)\n",
    "    shapes = get_landmarks(test_img, gray, rects, show=False)\n",
    "\n",
    "    #~~~~~~~~~~~~~~~~~56,64 EYE IMAGE~~~~~~~~~~~~~~~~~~~~~~~~~~~~~~~#\n",
    "    eye_img_l, eye_rect_l = crop_eye(gray, eye_points=shapes[36:42])\n",
    "    eye_img_r, eye_rect_r = crop_eye(gray, eye_points=shapes[42:48])\n",
    "    #~~~~~~~~~~~~~~~~~FOR THE BLINK DETECTION~~~~~~~~~~~~~~~~~~~~~~~\n",
    "    eye_blink_left = cv2.resize(eye_img_l.copy(), B_SIZE)\n",
    "    eye_blink_right = cv2.resize(eye_img_r.copy(), B_SIZE)\n",
    "    eye_blink_left_i = eye_blink_left.reshape((1, B_SIZE[1], B_SIZE[0], 1)).astype(np.float32) / 255.\n",
    "    eye_blink_right_i = eye_blink_right.reshape((1, B_SIZE[1], B_SIZE[0], 1)).astype(np.float32) / 255.\n",
    "    \n",
    "    status_l = detect_blink(eye_blink_left_i)\n",
    "    status_r = detect_blink(eye_blink_right_i)\n",
    "    \n",
    "    status = (status_l + status_r) / 2\n",
    "    status_rates.append(status)"
   ]
  },
  {
   "cell_type": "code",
   "execution_count": 6,
   "id": "0637e676",
   "metadata": {},
   "outputs": [
    {
     "data": {
      "image/png": "[encoded data removed]",
      "text/plain": [
       "<Figure size 432x288 with 1 Axes>"
      ]
     },
     "metadata": {
      "needs_background": "light"
     },
     "output_type": "display_data"
    }
   ],
   "source": [
    "plt.title(\"Status rate (openness of eyes) of every frame\")\n",
    "plt.xlabel('Frame')\n",
    "plt.ylabel('Rate')\n",
    "plt.plot(frames, status_rates)\n",
    "plt.show()"
   ]
  },
  {
   "cell_type": "code",
   "execution_count": 13,
   "id": "2ebbf7bd",
   "metadata": {},
   "outputs": [
    {
     "data": {
      "image/png": "[encoded data removed]",
      "text/plain": [
       "<Figure size 432x288 with 1 Axes>"
      ]
     },
     "metadata": {
      "needs_background": "light"
     },
     "output_type": "display_data"
    }
   ],
   "source": [
    "# look at the graph more in depth\n",
    "\n",
    "frame_start = 1405\n",
    "frame_end = 1415\n",
    "\n",
    "plt.title(\"Status rate (openness of eyes) of every frame\")\n",
    "plt.xlabel('Frame')\n",
    "plt.ylabel('Rate')\n",
    "plt.plot(frames[frame_start:frame_end], status_rates[frame_start:frame_end])\n",
    "plt.show()"
   ]
  },
  {
   "cell_type": "code",
   "execution_count": 30,
   "id": "5a123cbf",
   "metadata": {},
   "outputs": [
    {
     "name": "stdout",
     "output_type": "stream",
     "text": [
      "[(44, 46, 3), (77, 78, 2), (125, 126, 2), (182, 183, 2), (209, 211, 3), (277, 279, 3), (338, 340, 3), (401, 402, 2), (447, 449, 3), (464, 465, 2), (483, 485, 3), (517, 519, 3), (558, 560, 3), (593, 595, 3), (629, 630, 2), (661, 661, 1), (672, 673, 2), (744, 744, 1), (776, 779, 4), (845, 848, 4), (896, 898, 3), (938, 940, 3), (1031, 1033, 3), (1077, 1081, 5), (1102, 1105, 4), (1160, 1162, 3), (1245, 1246, 2), (1292, 1293, 2), (1341, 1341, 1), (1387, 1390, 4), (1409, 1413, 5), (1478, 1480, 3), (1499, 1501, 3), (1551, 1551, 1), (1590, 1591, 2), (1630, 1633, 4), (1648, 1651, 4), (1710, 1710, 1), (1733, 1735, 3), (1774, 1775, 2), (1801, 1802, 2), (1823, 1824, 2), (1858, 1859, 2), (1892, 1893, 2), (1933, 1936, 4), (1951, 1954, 4), (2095, 2095, 1), (2149, 2151, 3), (2203, 2205, 3), (2267, 2268, 2), (2404, 2405, 2), (2442, 2442, 1), (2562, 2563, 2), (2598, 2601, 4), (2629, 2630, 2), (2670, 2673, 4), (2701, 2701, 1), (2764, 2765, 2)]\n",
      "[3 2 2 2 3 3 3 2 3 2 3 3 3 3 2 1 2 1 4 4 3 3 3 5 4 3 2 2 1 4 5 3 3 1 2 4 4\n",
      " 1 3 2 2 2 2 2 4 4 1 3 3 2 2 1 2 4 2 4 1 2]\n",
      "58\n"
     ]
    }
   ],
   "source": [
    "# Finds eye-blinks given a sequence of values and a treshhold.\n",
    "def find_blinks(values, treshhold):\n",
    "    blink = False\n",
    "    blinks = []\n",
    "    blink_count = 0\n",
    "    for i, val in enumerate(values):\n",
    "        if val < treshhold:\n",
    "            if blink == False:\n",
    "                blink_count +=1\n",
    "                start = i\n",
    "            blink = True\n",
    "        else:\n",
    "            if blink == True:\n",
    "                end = i - 1\n",
    "                #calculate duration of blink, and include in tuple\n",
    "                duration = end - start + 1\n",
    "                blinks.append((start, end, duration))\n",
    "                #print(\"Blinking period: \" + str(start) + \" - \" + str(end))\n",
    "            blink = False\n",
    "    return blinks, blink_count\n",
    "\n",
    "treshhold = 15\n",
    "blinks, count = find_blinks(status_rates, treshhold)\n",
    "print(blinks)\n",
    "print(np.array(blinks)[:,2])\n",
    "print(len(blinks))"
   ]
  },
  {
   "cell_type": "code",
   "execution_count": 36,
   "id": "5cc12760",
   "metadata": {},
   "outputs": [
    {
     "name": "stdout",
     "output_type": "stream",
     "text": [
      "new_segment 460\n",
      "new_segment 920\n",
      "new_segment 1380\n",
      "new_segment 1840\n",
      "new_segment 2300\n"
     ]
    },
    {
     "data": {
      "image/png": "[encoded data removed]",
      "text/plain": [
       "<Figure size 432x288 with 1 Axes>"
      ]
     },
     "metadata": {
      "needs_background": "light"
     },
     "output_type": "display_data"
    },
    {
     "name": "stdout",
     "output_type": "stream",
     "text": [
      "[9, 12, 8, 13, 8]\n"
     ]
    }
   ],
   "source": [
    "blink_starts = list(np.array(blinks)[:,0])\n",
    "\n",
    "def blinks_segment(blink_starts, video_len, segment_len):\n",
    "    # the amount of frames at the end that are not taken into account\n",
    "    rest = video_len % segment_len\n",
    "    num_frames = video_len - rest\n",
    "    blink_counts = []\n",
    "    blink_count = 0\n",
    "    \n",
    "    # a blink is counted to a segment,when the blink starts in that segment\n",
    "    for frame in range(num_frames):\n",
    "        if frame % segment_len == 0 and frame != 0:\n",
    "            print('new_segment', frame)\n",
    "            blink_counts.append(blink_count)\n",
    "            blink_count = 0 \n",
    "        if frame in blink_starts:\n",
    "            blink_count += 1\n",
    "            \n",
    "    return(blink_counts)\n",
    "        \n",
    "    \n",
    "blink_counts = blinks_segment(blink_starts, 2805, 460)\n",
    "plt.title(\"Blink counts of a sequence of frame\")\n",
    "plt.xlabel('Frame sequence')\n",
    "plt.ylabel('Blink counts')\n",
    "plt.plot(range(len(blink_counts)), blink_counts)\n",
    "plt.show()\n",
    "print(blink_counts)"
   ]
  }
 ],
 "metadata": {
  "kernelspec": {
   "display_name": "Python 3 (ipykernel)",
   "language": "python",
   "name": "python3"
  },
  "language_info": {
   "codemirror_mode": {
    "name": "ipython",
    "version": 3
   },
   "file_extension": ".py",
   "mimetype": "text/x-python",
   "name": "python",
   "nbconvert_exporter": "python",
   "pygments_lexer": "ipython3",
   "version": "3.8.13"
  }
 },
 "nbformat": 4,
 "nbformat_minor": 5
}
